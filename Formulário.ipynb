{
 "cells": [
  {
   "cell_type": "code",
   "execution_count": 3,
   "id": "73f41913",
   "metadata": {},
   "outputs": [
    {
     "name": "stdout",
     "output_type": "stream",
     "text": [
      "Digite seu nome: msa\n",
      "Ok! Próxima pergunta.\n",
      "Digite sua idade: 29\n",
      "Digite seu sálario: 100\n",
      "Digite seu sexo biológico aqui: masc\n",
      "Sexo inválido\n",
      "Digite seu sexo biológico novamente: masculini\n",
      "Sexo inválido\n",
      "Digite seu sexo biológico novamente: masculino\n",
      "Ok!\n",
      "Obrigado pelas informações.\n"
     ]
    }
   ],
   "source": [
    "nome = str(input('Digite seu nome: '))\n",
    "print('Ok! Próxima pergunta.')\n",
    "\n",
    "idade = int(input('Digite sua idade: '))\n",
    "while idade <= 0 or idade >= 150:\n",
    "    print(\"Idade inválida\")\n",
    "    idade = int(input('Digite sua idade novamente, por favor: '))\n",
    "    if idade >=0 and idade <= 150:\n",
    "        print('Ok!')\n",
    "        \n",
    "salario = float(input('Digite seu sálario: '))\n",
    "while salario <= 0:\n",
    "    print('O valor deve ser diferente de 0!')\n",
    "    salario = float(input('Digite seu sálario novamente: '))\n",
    "    if salario > 0:  \n",
    "        print('Ok!') \n",
    "\n",
    "sexo = str(input('Digite seu sexo biológico aqui: '))\n",
    "while sexo != 'masculino' and sexo != 'feminino' and sexo != 'outro':\n",
    "    print('Sexo inválido')  \n",
    "    sexo = str(input('Digite seu sexo biológico novamente: '))\n",
    "    if sexo == 'masculino' or sexo == 'feminino' or sexo == 'outro':\n",
    "        print('Ok!')   \n",
    "    \n",
    "print('Obrigado pelas informações.')"
   ]
  },
  {
   "cell_type": "code",
   "execution_count": null,
   "id": "72166e3d",
   "metadata": {},
   "outputs": [],
   "source": []
  }
 ],
 "metadata": {
  "kernelspec": {
   "display_name": "Python 3 (ipykernel)",
   "language": "python",
   "name": "python3"
  },
  "language_info": {
   "codemirror_mode": {
    "name": "ipython",
    "version": 3
   },
   "file_extension": ".py",
   "mimetype": "text/x-python",
   "name": "python",
   "nbconvert_exporter": "python",
   "pygments_lexer": "ipython3",
   "version": "3.10.4"
  }
 },
 "nbformat": 4,
 "nbformat_minor": 5
}
